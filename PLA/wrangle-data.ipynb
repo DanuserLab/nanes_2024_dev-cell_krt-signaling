{
 "cells": [
  {
   "cell_type": "code",
   "execution_count": 1,
   "id": "d8631f05",
   "metadata": {},
   "outputs": [],
   "source": [
    "%matplotlib inline\n",
    "import numpy as np\n",
    "import pandas as pd\n",
    "import time, os, sys, random, re, itertools\n",
    "import PIL.Image\n",
    "import pims\n",
    "import skimage.io as imgio\n",
    "import skimage.filters as skf\n",
    "import matplotlib.pyplot as plt\n",
    "import matplotlib as mpl\n",
    "import scipy.ndimage as ndi\n",
    "from scipy.ndimage import distance_transform_edt\n",
    "from scipy import stats\n",
    "import colorcet as cc\n",
    "import skimage.filters\n",
    "from IPython.display import clear_output\n",
    "import xml.etree.ElementTree as ET\n",
    "mpl.rcParams['figure.dpi'] = 300\n",
    "PIL.Image.MAX_IMAGE_PIXELS = None"
   ]
  },
  {
   "cell_type": "code",
   "execution_count": 2,
   "id": "a70d0c20",
   "metadata": {},
   "outputs": [],
   "source": [
    "eDir = \"\"\n",
    "imgDir = \"raw/\"\n",
    "maskDir = \"mask/\"\n",
    "ssTabFile = eDir + \"slideset-table.xml\"\n",
    "\n",
    "ssTab = ET.parse(ssTabFile)\n",
    "imageFiles = [e.text for e in ssTab.find(\"./col[@name='Img']\").findall(\"e\")]\n",
    "imageNames = list(map(lambda f : os.path.basename(f), imageFiles))\n",
    "try:\n",
    "    excludeMaskFiles = [e.text for e in ssTab.find(\"./SlideSet/col[@name='Mask image']\").findall(\"e\")]\n",
    "    excludeMaskDict = dict(zip(imageNames, excludeMaskFiles))\n",
    "except:\n",
    "    excludeMaskDict = dict(itertools.zip_longest(imageNames, \"x\", fillvalue=\"x\"))\n",
    "\n",
    "csvBigFile = eDir + \"pla-table.csv\""
   ]
  },
  {
   "cell_type": "code",
   "execution_count": 3,
   "id": "f2e045be",
   "metadata": {},
   "outputs": [],
   "source": [
    "def wrangleMe(imageName):\n",
    "    clear_output(wait=True)\n",
    "    print(\"Now working on: \" + imageName)\n",
    "    \n",
    "    # Set up file names\n",
    "    imgShortName = re.findall(r'batchName-\\d_\\d+', imageName)[0]\n",
    "    imgFile = eDir + imgDir + imageName\n",
    "    maskFile = eDir + maskDir + imageName + \"_masks-400.png\"\n",
    "    excludeFile = eDir + excludeMaskDict[imageName]\n",
    "    plaFile = eDir + \"plaDetect/\" + imgShortName + \"_pointMask.png\"\n",
    "    \n",
    "    # Load and pre-process the image (may need to adjust this depending on image format)\n",
    "    I = pims.Bioformats(imgFile)\n",
    "    I.bundle_axes = 'yxc'\n",
    "    img = I[0]\n",
    "    masks = imgio.imread(maskFile)\n",
    "    plaPointMask = imgio.imread(plaFile)\n",
    "    try:\n",
    "        excludeMask = imgio.imread(excludeFile)\n",
    "    except:\n",
    "        excludeMask = np.zeros_like(masks)\n",
    "\n",
    "    # Make the data frame for this image\n",
    "    df = pd.DataFrame({\n",
    "        \"idx\": np.ravel(masks, order='C'),\n",
    "        \"K5\": np.ravel(img[:,:,1], order='C'),\n",
    "        \"K6\": np.ravel(img[:,:,2], order='C'),\n",
    "        \"PLA\": np.ravel(img[:,:,3], order='C'),\n",
    "        \"PLApointMask\": np.ravel(plaPointMask, order='C'),\n",
    "        \"exclude\": np.ravel(excludeMask, order='C')\n",
    "    })\n",
    "    df = df.groupby(\"idx\", as_index=False).agg(\n",
    "        size=(\"PLApointMask\", np.size),\n",
    "        K5_med=(\"K5\", \"median\"),\n",
    "        K6_med=(\"K6\", \"median\"),\n",
    "        PLA_med=(\"PLA\", \"median\"),\n",
    "        PLA_points=(\"PLApointMask\", \"sum\"),\n",
    "        exclude=(\"exclude\", np.max)\n",
    "    )\n",
    "    df[\"img\"] = imgShortName\n",
    "    df['group'] = df['img'].str.extract(r'((?<=batchName-)\\d)')\n",
    "    df[\"Krt\"] = \"?\"\n",
    "    df.loc[np.logical_and(df[\"K6_med\"]<0.75*df[\"K5_med\"], df[\"K5_med\"]>4000), \"Krt\"] = \"K5\"\n",
    "    df.loc[np.logical_and(df[\"K6_med\"]>1.25*df[\"K5_med\"], df[\"K6_med\"]>4000), \"Krt\"] = \"K6\"\n",
    "    df.loc[np.logical_and(df[\"K5_med\"]<=4000, df[\"K6_med\"]<=4000), \"Krt\"] = \"wt\"\n",
    "    \n",
    "    return df\n"
   ]
  },
  {
   "cell_type": "code",
   "execution_count": null,
   "id": "c7d6e64f",
   "metadata": {},
   "outputs": [],
   "source": [
    "dfs = [ wrangleMe(i) for i in imageNames ]\n",
    "df = pd.concat(dfs)\n",
    "df.to_csv(csvBigFile)"
   ]
  }
 ],
 "metadata": {
  "kernelspec": {
   "display_name": "Python 3 (ipykernel)",
   "language": "python",
   "name": "python3"
  },
  "language_info": {
   "codemirror_mode": {
    "name": "ipython",
    "version": 3
   },
   "file_extension": ".py",
   "mimetype": "text/x-python",
   "name": "python",
   "nbconvert_exporter": "python",
   "pygments_lexer": "ipython3",
   "version": "3.8.11"
  }
 },
 "nbformat": 4,
 "nbformat_minor": 5
}
