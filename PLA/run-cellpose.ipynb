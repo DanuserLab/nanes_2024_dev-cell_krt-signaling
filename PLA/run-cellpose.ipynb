{
 "cells": [
  {
   "cell_type": "code",
   "execution_count": 1,
   "id": "114750e8",
   "metadata": {},
   "outputs": [],
   "source": [
    "import numpy as np\n",
    "import time, os, sys, random\n",
    "import skimage.io\n",
    "import matplotlib.pyplot as plt\n",
    "import matplotlib as mpl\n",
    "import nd2reader\n",
    "import pims\n",
    "import xml.etree.ElementTree as ET\n",
    "from IPython.display import clear_output\n",
    "%matplotlib inline\n",
    "mpl.rcParams['figure.dpi'] = 300"
   ]
  },
  {
   "cell_type": "code",
   "execution_count": 2,
   "id": "d97dcebe",
   "metadata": {},
   "outputs": [],
   "source": [
    "from cellpose import models, utils"
   ]
  },
  {
   "cell_type": "code",
   "execution_count": 3,
   "id": "7359e383",
   "metadata": {},
   "outputs": [],
   "source": [
    "eDir = \"\"\n",
    "imgDir = \"raw/\"\n",
    "maskDir = \"mask/\"\n",
    "ssTabFile = eDir + \"slideset-table.xml\"\n",
    "\n",
    "ssTab = ET.parse(ssTabFile)\n",
    "imageFiles = [e.text for e in ssTab.find(\"./col[@name='Img']\").findall(\"e\")]\n",
    "imageNames = list(map(lambda f : os.path.basename(f), imageFiles))\n",
    "\n",
    "chan = (1,2)\n",
    "diam = 400"
   ]
  },
  {
   "cell_type": "code",
   "execution_count": 4,
   "id": "ea5e2a49",
   "metadata": {},
   "outputs": [],
   "source": [
    "def runTheModel(imageName):\n",
    "    clear_output(wait=True)\n",
    "    print(\"Now working on: \" + imageName)\n",
    "    fname = eDir + imgDir + imageName\n",
    "    fnameOut = eDir + maskDir + imageName\n",
    "\n",
    "    # Load and pre-process the image (may need to adjust this depending on image format)\n",
    "    I = pims.Bioformats(fname)\n",
    "    I.bundle_axes = 'yxc'\n",
    "    img = I[0]\n",
    "    img2 = np.zeros_like(img[:,:,[0,1]], dtype=float)\n",
    "    img2[:,:,0] = img[:,:,1] / np.linalg.norm(img[:,:,1]) + \\\n",
    "        img[:,:,2] / np.linalg.norm(img[:,:,2]) + \\\n",
    "        img[:,:,3] / np.linalg.norm(img[:,:,3]) # Sum K5-mNG, K6A-mRb, and PLA\n",
    "    img2[:,:,1] = img[:,:,0] # DAPI\n",
    "    \n",
    "    # Run the Cellpose model\n",
    "    model = models.Cellpose(gpu=False, model_type='cyto')\n",
    "    masks, flows, styles, diams = model.eval(img2, diameter=diam, channels=(1,2))\n",
    "    \n",
    "    # Save the masks\n",
    "    maskout = fnameOut + '_masks-' + str(diam) + '.png'\n",
    "    skimage.io.imsave(maskout, masks, check_contrast=False)"
   ]
  },
  {
   "cell_type": "code",
   "execution_count": null,
   "id": "76df24e5",
   "metadata": {},
   "outputs": [],
   "source": [
    "for i in imageNames:\n",
    "    runTheModel(i)"
   ]
  }
 ],
 "metadata": {
  "kernelspec": {
   "display_name": "Python 3 (ipykernel)",
   "language": "python",
   "name": "python3"
  },
  "language_info": {
   "codemirror_mode": {
    "name": "ipython",
    "version": 3
   },
   "file_extension": ".py",
   "mimetype": "text/x-python",
   "name": "python",
   "nbconvert_exporter": "python",
   "pygments_lexer": "ipython3",
   "version": "3.8.11"
  }
 },
 "nbformat": 4,
 "nbformat_minor": 5
}
